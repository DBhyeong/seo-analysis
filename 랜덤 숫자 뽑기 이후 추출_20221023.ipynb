{
 "cells": [
  {
   "cell_type": "code",
   "execution_count": 4,
   "id": "199564e1",
   "metadata": {},
   "outputs": [
    {
     "name": "stdout",
     "output_type": "stream",
     "text": [
      "[84]\n"
     ]
    }
   ],
   "source": [
    "import random\n",
    " \n",
    "alist=[]                          # 뽑은 a를 넣어 중복 방지해주는 리스트         \n",
    "for i in range(10):\n",
    "  a = random.randint(1,100)       \n",
    "  while a in alist :              # a가 이미 뽑은 리스트에 있을 때까지 다시 뽑자\n",
    "    a = random.randint(1,100)\n",
    "alist.append(a) # 새로운 a 값을 리스트에 추가\n",
    " \n",
    "print(alist)"
   ]
  },
  {
   "cell_type": "code",
   "execution_count": 8,
   "id": "c4bcfb95",
   "metadata": {
    "scrolled": false
   },
   "outputs": [],
   "source": [
    "from random import choice, randint, random\n",
    "import numpy as np\n",
    "\n",
    "for i in range(10000) : #횟수\n",
    "    a= np.random.randint(1,1176)\n",
    "    #print(a)"
   ]
  },
  {
   "cell_type": "code",
   "execution_count": 9,
   "id": "5ac66b59",
   "metadata": {},
   "outputs": [
    {
     "data": {
      "text/html": [
       "<div>\n",
       "<style scoped>\n",
       "    .dataframe tbody tr th:only-of-type {\n",
       "        vertical-align: middle;\n",
       "    }\n",
       "\n",
       "    .dataframe tbody tr th {\n",
       "        vertical-align: top;\n",
       "    }\n",
       "\n",
       "    .dataframe thead th {\n",
       "        text-align: right;\n",
       "    }\n",
       "</style>\n",
       "<table border=\"1\" class=\"dataframe\">\n",
       "  <thead>\n",
       "    <tr style=\"text-align: right;\">\n",
       "      <th></th>\n",
       "      <th>directory</th>\n",
       "      <th>bible</th>\n",
       "      <th>num</th>\n",
       "      <th>kor_ver</th>\n",
       "      <th>kor_bible</th>\n",
       "      <th>title</th>\n",
       "      <th>title_final</th>\n",
       "      <th>img_dir</th>\n",
       "    </tr>\n",
       "  </thead>\n",
       "  <tbody>\n",
       "    <tr>\n",
       "      <th>0</th>\n",
       "      <td>C:/Users/user/raw/down/bible/rev_22_verse.txt</td>\n",
       "      <td>rev</td>\n",
       "      <td>22</td>\n",
       "      <td>신약</td>\n",
       "      <td>요한계시록</td>\n",
       "      <td>성경 신약 요한계시록 22장</td>\n",
       "      <td>1년 1독 성경 신약 요한계시록 22장 암기 구절 공부 검색</td>\n",
       "      <td>C:/Users/user/Desktop/test/image_2/test_성경 신약 ...</td>\n",
       "    </tr>\n",
       "    <tr>\n",
       "      <th>1</th>\n",
       "      <td>C:/Users/user/raw/down/bible/hos_6_verse.txt</td>\n",
       "      <td>hos</td>\n",
       "      <td>6</td>\n",
       "      <td>구약</td>\n",
       "      <td>호세아</td>\n",
       "      <td>성경 구약 호세아 6장</td>\n",
       "      <td>좋은 성경 구약 호세아 6장 암기 구절 공부 암송</td>\n",
       "      <td>C:/Users/user/Desktop/test/image_2/test_성경 구약 ...</td>\n",
       "    </tr>\n",
       "    <tr>\n",
       "      <th>2</th>\n",
       "      <td>C:/Users/user/raw/down/bible/job_25_verse.txt</td>\n",
       "      <td>job</td>\n",
       "      <td>25</td>\n",
       "      <td>구약</td>\n",
       "      <td>욥기</td>\n",
       "      <td>성경 구약 욥기 25장</td>\n",
       "      <td>격려가 되는 성경 구약 욥기 25장 암기 구절 공부 일독</td>\n",
       "      <td>C:/Users/user/Desktop/test/image_2/test_성경 구약 ...</td>\n",
       "    </tr>\n",
       "    <tr>\n",
       "      <th>3</th>\n",
       "      <td>C:/Users/user/raw/down/bible/eze_10_verse.txt</td>\n",
       "      <td>eze</td>\n",
       "      <td>10</td>\n",
       "      <td>구약</td>\n",
       "      <td>에스겔</td>\n",
       "      <td>성경 구약 에스겔 10장</td>\n",
       "      <td>힘들 때 찾는 성경 구약 에스겔 10장 암기 구절 공부 찾기</td>\n",
       "      <td>C:/Users/user/Desktop/test/image_2/test_성경 구약 ...</td>\n",
       "    </tr>\n",
       "    <tr>\n",
       "      <th>4</th>\n",
       "      <td>C:/Users/user/raw/down/bible/psa_127_verse.txt</td>\n",
       "      <td>psa</td>\n",
       "      <td>127</td>\n",
       "      <td>구약</td>\n",
       "      <td>시편</td>\n",
       "      <td>성경 구약 시편 127장</td>\n",
       "      <td>지혜를 주는 성경 구약 시편 127장 암기 구절 공부 암송</td>\n",
       "      <td>C:/Users/user/Desktop/test/image_2/test_성경 구약 ...</td>\n",
       "    </tr>\n",
       "  </tbody>\n",
       "</table>\n",
       "</div>"
      ],
      "text/plain": [
       "                                        directory bible  num kor_ver  \\\n",
       "0   C:/Users/user/raw/down/bible/rev_22_verse.txt   rev   22      신약   \n",
       "1    C:/Users/user/raw/down/bible/hos_6_verse.txt   hos    6      구약   \n",
       "2   C:/Users/user/raw/down/bible/job_25_verse.txt   job   25      구약   \n",
       "3   C:/Users/user/raw/down/bible/eze_10_verse.txt   eze   10      구약   \n",
       "4  C:/Users/user/raw/down/bible/psa_127_verse.txt   psa  127      구약   \n",
       "\n",
       "  kor_bible            title                        title_final  \\\n",
       "0     요한계시록  성경 신약 요한계시록 22장  1년 1독 성경 신약 요한계시록 22장 암기 구절 공부 검색   \n",
       "1       호세아     성경 구약 호세아 6장        좋은 성경 구약 호세아 6장 암기 구절 공부 암송   \n",
       "2        욥기     성경 구약 욥기 25장    격려가 되는 성경 구약 욥기 25장 암기 구절 공부 일독   \n",
       "3       에스겔    성경 구약 에스겔 10장  힘들 때 찾는 성경 구약 에스겔 10장 암기 구절 공부 찾기   \n",
       "4        시편    성경 구약 시편 127장   지혜를 주는 성경 구약 시편 127장 암기 구절 공부 암송   \n",
       "\n",
       "                                             img_dir  \n",
       "0  C:/Users/user/Desktop/test/image_2/test_성경 신약 ...  \n",
       "1  C:/Users/user/Desktop/test/image_2/test_성경 구약 ...  \n",
       "2  C:/Users/user/Desktop/test/image_2/test_성경 구약 ...  \n",
       "3  C:/Users/user/Desktop/test/image_2/test_성경 구약 ...  \n",
       "4  C:/Users/user/Desktop/test/image_2/test_성경 구약 ...  "
      ]
     },
     "execution_count": 9,
     "metadata": {},
     "output_type": "execute_result"
    }
   ],
   "source": []
  },
  {
   "cell_type": "code",
   "execution_count": null,
   "id": "3a5147ac",
   "metadata": {},
   "outputs": [],
   "source": []
  }
 ],
 "metadata": {
  "kernelspec": {
   "display_name": "Python 3 (ipykernel)",
   "language": "python",
   "name": "python3"
  },
  "language_info": {
   "codemirror_mode": {
    "name": "ipython",
    "version": 3
   },
   "file_extension": ".py",
   "mimetype": "text/x-python",
   "name": "python",
   "nbconvert_exporter": "python",
   "pygments_lexer": "ipython3",
   "version": "3.9.7"
  }
 },
 "nbformat": 4,
 "nbformat_minor": 5
}
