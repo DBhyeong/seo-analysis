{
 "cells": [
  {
   "cell_type": "code",
   "execution_count": 61,
   "id": "ed74d75e",
   "metadata": {
    "scrolled": false
   },
   "outputs": [],
   "source": [
    "import re\n",
    "\n",
    "f = open(r\"C:\\Users\\user\\Desktop\\text.txt\", 'r', encoding='utf-8-sig')\n",
    "\n",
    "content_text = f.read() #read로 해야됨\n",
    "\n",
    "#특수문자 제거\n",
    "\n",
    "def clean_text(inputString): #함수화\n",
    "    text_rmv = re.sub('[-=+,#/\\:^@*\\\"※~ㆍ』‘|\\(\\)\\[\\]`\\'…》\\”\\“\\’·]', ' ', inputString)\n",
    "    text_rmv = ' '.join(text_rmv.split())\n",
    "    return text_rmv\n",
    "\n",
    "content_text = clean_text(content_text)\n",
    "    \n",
    "#이모지 제거\n",
    "\n",
    "emoji_pattern = re.compile(\"[\"\n",
    "        u\"\\U0001F600-\\U0001F64F\"  # emoticons\n",
    "        u\"\\U0001F300-\\U0001F5FF\"  # symbols & pictographs\n",
    "        u\"\\U0001F680-\\U0001F6FF\"  # transport & map symbols\n",
    "        u\"\\U0001F1E0-\\U0001F1FF\"  # flags (iOS)\n",
    "                           \"]+\", flags=re.UNICODE)\n",
    "\n",
    "content_text = emoji_pattern.sub(r'', content_text)\n",
    "content_text = content_text.replace(\"\\u200b\", \"\")\n",
    "content_text = content_text.replace(\"?\", \".\")\n",
    "content_text = content_text.replace(\"!\", \".\")\n",
    "\n",
    "content_text_list = content_text.split('.') #마침표로 리스트화"
   ]
  },
  {
   "cell_type": "code",
   "execution_count": 62,
   "id": "53e13e68",
   "metadata": {},
   "outputs": [
    {
     "name": "stdout",
     "output_type": "stream",
     "text": [
      "띄어쓰기 최종완료\n"
     ]
    }
   ],
   "source": [
    "from pykospacing import Spacing\n",
    "\n",
    "f_txt = open(r\"C:\\Users\\user\\Desktop\\text_1_Spacing.txt\", 'w', encoding='utf-8-sig')\n",
    "spacing = Spacing()\n",
    "\n",
    "for sent in content_text_list :\n",
    "    new_sent = sent.replace(\" \", '') #띄어쓰기 없는 문장 만들기\n",
    "    kospacing_sent = spacing(new_sent)\n",
    "    kospacing_sent = str(kospacing_sent) + '.'  #마침표 찍기\n",
    "    f_txt.write(kospacing_sent + '\\n')\n",
    "f_txt.close()\n",
    "print(\"띄어쓰기 최종완료\")"
   ]
  },
  {
   "cell_type": "code",
   "execution_count": 63,
   "id": "f888b213",
   "metadata": {},
   "outputs": [
    {
     "name": "stdout",
     "output_type": "stream",
     "text": [
      "에러발생\n",
      "에러발생\n",
      "에러발생\n",
      "에러발생\n",
      "에러발생\n",
      "에러발생\n",
      "에러발생\n",
      "에러발생\n",
      "에러발생\n",
      "에러발생\n",
      "에러발생\n",
      "에러발생\n",
      "에러발생\n",
      "에러발생\n",
      "에러발생\n",
      "에러발생\n",
      "에러발생\n",
      "에러발생\n",
      "에러발생\n",
      "에러발생\n",
      "에러발생\n",
      "에러발생\n",
      "에러발생\n",
      "에러발생\n",
      "에러발생\n",
      "에러발생\n",
      "에러발생\n",
      "에러발생\n",
      "에러발생\n",
      "에러발생\n",
      "에러발생\n",
      "에러발생\n",
      "에러발생\n",
      "에러발생\n",
      "맞춤법 교정 완료\n"
     ]
    }
   ],
   "source": [
    "from hanspell import spell_checker\n",
    "\n",
    "f_txt = open(r\"C:\\Users\\user\\Desktop\\text_1_Spacing.txt\", 'r', encoding='utf-8-sig')\n",
    "hanspell_txt = open(r\"C:\\Users\\user\\Desktop\\hanspell_1_txt.txt\", 'w', encoding='utf-8-sig')\n",
    "\n",
    "text_1_Spacing = f_txt.read()  #읽기\n",
    "\n",
    "text_1_Spacing_list = text_1_Spacing.split('.') #마침표 리스트화\n",
    "\n",
    "for sent in text_1_Spacing_list :\n",
    "    try :\n",
    "        sent = sent + '.'\n",
    "        spelled_sent = spell_checker.check(sent)\n",
    "        hanspell_sent = spelled_sent.checked\n",
    "        hanspell_txt.write(hanspell_sent + '\\n')\n",
    "    except :\n",
    "        print(\"에러발생\")\n",
    "f_txt.close()\n",
    "hanspell_txt.close()\n",
    "\n",
    "print(\"맞춤법 교정 완료\")"
   ]
  },
  {
   "cell_type": "code",
   "execution_count": null,
   "id": "bfc805ee",
   "metadata": {},
   "outputs": [],
   "source": []
  }
 ],
 "metadata": {
  "kernelspec": {
   "display_name": "Python 3 (ipykernel)",
   "language": "python",
   "name": "python3"
  },
  "language_info": {
   "codemirror_mode": {
    "name": "ipython",
    "version": 3
   },
   "file_extension": ".py",
   "mimetype": "text/x-python",
   "name": "python",
   "nbconvert_exporter": "python",
   "pygments_lexer": "ipython3",
   "version": "3.9.7"
  }
 },
 "nbformat": 4,
 "nbformat_minor": 5
}
